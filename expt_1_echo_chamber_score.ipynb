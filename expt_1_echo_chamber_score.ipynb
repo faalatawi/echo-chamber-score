{
 "cells": [
  {
   "cell_type": "code",
   "execution_count": 1,
   "metadata": {},
   "outputs": [
    {
     "data": {
      "text/plain": [
       "<torch._C.Generator at 0x7fe0823ef570>"
      ]
     },
     "execution_count": 1,
     "metadata": {},
     "output_type": "execute_result"
    }
   ],
   "source": [
    "import torch\n",
    "import random\n",
    "import numpy as np\n",
    "from sklearn.utils import check_random_state\n",
    "import pandas as pd\n",
    "\n",
    "\n",
    "random.seed(42)\n",
    "\n",
    "# Set the random seed for numpy\n",
    "np.random.seed(42)\n",
    "\n",
    "# Set the random seed for pandas\n",
    "# pd.np.random.seed(42)\n",
    "\n",
    "# Set the random seed for scikit-learn\n",
    "check_random_state(42)\n",
    "\n",
    "# Set the random seed for pytorch\n",
    "torch.manual_seed(42)"
   ]
  },
  {
   "cell_type": "code",
   "execution_count": 2,
   "metadata": {},
   "outputs": [],
   "source": [
    "from src.load_data import get_data\n",
    "from src.EchoGAE import EchoGAE_algorithm\n",
    "from src.echo_chamber_measure import EchoChamberMeasure\n",
    "\n",
    "\n",
    "# TODO: Work on baselines\n",
    "from networkx.algorithms.community import asyn_fluidc\n",
    "from src.baselines.RWC_jit import RWC\n",
    "# from src.baselines.RWC import RWC # If you don't have numba installed use this line instead but it will be slower\n",
    "\n",
    "from src.baselines.polarization_index import add_ideology_to_graph, opinion_model, get_polarization_index"
   ]
  },
  {
   "cell_type": "code",
   "execution_count": 3,
   "metadata": {},
   "outputs": [],
   "source": [
    "datasets = [\"gun\", \"abortion\", \"super_bowl\", \"sxsw\"]"
   ]
  },
  {
   "cell_type": "code",
   "execution_count": 4,
   "metadata": {},
   "outputs": [],
   "source": [
    "def add_ideology_to_graph_22(G, ideologies_dict):\n",
    "    G = G.copy()\n",
    "    core_nodes = []\n",
    "    for node in G.nodes():\n",
    "        if node in ideologies_dict:\n",
    "            G.nodes[node][\"ideology\"] = ideologies_dict[node]\n",
    "            core_nodes.append(node)\n",
    "        else:\n",
    "            G.nodes[node][\"ideology\"] = 0\n",
    "    return G, core_nodes"
   ]
  },
  {
   "cell_type": "code",
   "execution_count": 5,
   "metadata": {},
   "outputs": [
    {
     "name": "stdout",
     "output_type": "stream",
     "text": [
      "Dataset (gun): "
     ]
    },
    {
     "name": "stderr",
     "output_type": "stream",
     "text": [
      "100%|██████████| 6941/6941 [01:28<00:00, 78.04it/s] \n",
      "100%|██████████| 6913/6913 [08:05<00:00, 14.25it/s]\n"
     ]
    },
    {
     "name": "stdout",
     "output_type": "stream",
     "text": [
      "ECS = 0.628 --  RWC = 0.420 --  PI = 0.314\n",
      "\n",
      "\n",
      "Dataset (abortion): "
     ]
    },
    {
     "name": "stderr",
     "output_type": "stream",
     "text": [
      "100%|██████████| 5093/5093 [01:26<00:00, 59.21it/s]\n",
      "100%|██████████| 5088/5088 [07:11<00:00, 11.79it/s]\n"
     ]
    },
    {
     "name": "stdout",
     "output_type": "stream",
     "text": [
      "ECS = 0.622 --  RWC = 0.513 --  PI = 0.186\n",
      "\n",
      "\n",
      "Dataset (super_bowl): "
     ]
    },
    {
     "name": "stderr",
     "output_type": "stream",
     "text": [
      "100%|██████████| 5473/5473 [00:29<00:00, 182.66it/s]\n",
      "100%|██████████| 5463/5463 [03:48<00:00, 23.90it/s]\n"
     ]
    },
    {
     "name": "stdout",
     "output_type": "stream",
     "text": [
      "ECS = 0.562 --  RWC = 0.273 --  PI = 0.016\n",
      "\n",
      "\n",
      "Dataset (sxsw): "
     ]
    },
    {
     "name": "stderr",
     "output_type": "stream",
     "text": [
      "100%|██████████| 2466/2466 [00:28<00:00, 87.36it/s] \n",
      "100%|██████████| 2464/2464 [03:00<00:00, 13.64it/s]\n"
     ]
    },
    {
     "name": "stdout",
     "output_type": "stream",
     "text": [
      "ECS = 0.465 --  RWC = 0.482 --  PI = 0.002\n",
      "\n",
      "\n"
     ]
    }
   ],
   "source": [
    "experiments = []\n",
    "\n",
    "use_baseline = True\n",
    "\n",
    "for ds in datasets:\n",
    "    print(f\"Dataset ({ds}): \", end=\"\")\n",
    "    \n",
    "    ds_dict = {}\n",
    "    ds_dict[\"dataset\"] = ds\n",
    "\n",
    "    # Get the data\n",
    "    G, users_embeddings, labels, allsides_scores, node_id_map = get_data(f\"data/{ds}/\")\n",
    "\n",
    "    # Graph information\n",
    "    ds_dict[\"number_of_nodes\"] = G.number_of_nodes()\n",
    "    ds_dict[\"number_of_edges\"] = G.number_of_edges()\n",
    "    ds_dict[\"number_of_communities\"] = len(np.unique(labels))\n",
    "\n",
    "\n",
    "    # My metric\n",
    "    user_emb = EchoGAE_algorithm(G, user_embeddings= users_embeddings, show_progress=False, hidden_channels = 20, out_channels=10, epochs=300)\n",
    "    ecm = EchoChamberMeasure(user_emb, labels)\n",
    "    eci = ecm.echo_chamber_index()\n",
    "    ds_dict[\"echo_chamber_score\"] = eci\n",
    "\n",
    "    print(f\"ECS = {eci:.3f} -- \", end=\" \")\n",
    "\n",
    "    # For communities ECIs and Sizes\n",
    "    sizes = []\n",
    "    ECSs = []\n",
    "\n",
    "    for i in np.unique(labels):\n",
    "        sizes.append(np.sum(labels == i))\n",
    "        ECSs.append(ecm.community_echo_chamber_index(i))\n",
    "\n",
    "    ds_dict[\"community_sizes\"] = sizes\n",
    "    ds_dict[\"community_ECIs\"] = ECSs\n",
    "\n",
    "\n",
    "    if use_baseline:\n",
    "        # Baseline\n",
    "        mem = asyn_fluidc(G, k=2, seed=42, max_iter=1000)\n",
    "        mem = list(mem)\n",
    "\n",
    "        nodes_0 = np.array(list(mem[0]))\n",
    "        nodes_1 = np.array(list(mem[1]))\n",
    "\n",
    "\n",
    "        rwc = RWC(G, nodes_0, nodes_1)\n",
    "        ds_dict[\"RWC\"] = rwc\n",
    "        print(f\"RWC = {rwc:.3f} -- \", end=\" \")\n",
    "\n",
    "\n",
    "        # Valenzuela metric\n",
    "        G_ven, core_nodes = add_ideology_to_graph_22(G, allsides_scores)\n",
    "        opinions = opinion_model(G_ven, core_nodes=core_nodes)\n",
    "        polarization_index = get_polarization_index(opinions)[0]\n",
    "\n",
    "        ds_dict[\"PI\"] = polarization_index\n",
    "        print(f\"PI = {polarization_index:.3f}\")\n",
    "    else:\n",
    "        print(\"\")\n",
    "\n",
    "    experiments.append(ds_dict)\n",
    "\n",
    "    print(\"\\n\")"
   ]
  },
  {
   "cell_type": "code",
   "execution_count": 6,
   "metadata": {},
   "outputs": [],
   "source": [
    "df = pd.DataFrame(experiments)"
   ]
  },
  {
   "cell_type": "code",
   "execution_count": 7,
   "metadata": {},
   "outputs": [
    {
     "data": {
      "text/html": [
       "<div>\n",
       "<style scoped>\n",
       "    .dataframe tbody tr th:only-of-type {\n",
       "        vertical-align: middle;\n",
       "    }\n",
       "\n",
       "    .dataframe tbody tr th {\n",
       "        vertical-align: top;\n",
       "    }\n",
       "\n",
       "    .dataframe thead th {\n",
       "        text-align: right;\n",
       "    }\n",
       "</style>\n",
       "<table border=\"1\" class=\"dataframe\">\n",
       "  <thead>\n",
       "    <tr style=\"text-align: right;\">\n",
       "      <th></th>\n",
       "      <th>dataset</th>\n",
       "      <th>number_of_nodes</th>\n",
       "      <th>number_of_edges</th>\n",
       "      <th>number_of_communities</th>\n",
       "      <th>echo_chamber_score</th>\n",
       "      <th>community_sizes</th>\n",
       "      <th>community_ECIs</th>\n",
       "      <th>RWC</th>\n",
       "      <th>PI</th>\n",
       "    </tr>\n",
       "  </thead>\n",
       "  <tbody>\n",
       "    <tr>\n",
       "      <th>0</th>\n",
       "      <td>gun</td>\n",
       "      <td>6566</td>\n",
       "      <td>14322</td>\n",
       "      <td>2</td>\n",
       "      <td>0.627835</td>\n",
       "      <td>[3985, 2581]</td>\n",
       "      <td>[0.6251755742357289, 0.6319404680042986]</td>\n",
       "      <td>0.419960</td>\n",
       "      <td>0.314150</td>\n",
       "    </tr>\n",
       "    <tr>\n",
       "      <th>1</th>\n",
       "      <td>abortion</td>\n",
       "      <td>5087</td>\n",
       "      <td>10572</td>\n",
       "      <td>2</td>\n",
       "      <td>0.621917</td>\n",
       "      <td>[3933, 1154]</td>\n",
       "      <td>[0.6020493726635332, 0.6896280351698904]</td>\n",
       "      <td>0.512643</td>\n",
       "      <td>0.185957</td>\n",
       "    </tr>\n",
       "    <tr>\n",
       "      <th>2</th>\n",
       "      <td>super_bowl</td>\n",
       "      <td>5460</td>\n",
       "      <td>8732</td>\n",
       "      <td>3</td>\n",
       "      <td>0.561706</td>\n",
       "      <td>[5346, 23, 91]</td>\n",
       "      <td>[0.5622504817995841, 0.6304746701416013, 0.512...</td>\n",
       "      <td>0.272877</td>\n",
       "      <td>0.015645</td>\n",
       "    </tr>\n",
       "    <tr>\n",
       "      <th>3</th>\n",
       "      <td>sxsw</td>\n",
       "      <td>2436</td>\n",
       "      <td>5325</td>\n",
       "      <td>5</td>\n",
       "      <td>0.464753</td>\n",
       "      <td>[1568, 712, 85, 54, 17]</td>\n",
       "      <td>[0.4515471280011807, 0.419006628225444, 0.8362...</td>\n",
       "      <td>0.482049</td>\n",
       "      <td>0.001514</td>\n",
       "    </tr>\n",
       "  </tbody>\n",
       "</table>\n",
       "</div>"
      ],
      "text/plain": [
       "      dataset  number_of_nodes  number_of_edges  number_of_communities  \\\n",
       "0         gun             6566            14322                      2   \n",
       "1    abortion             5087            10572                      2   \n",
       "2  super_bowl             5460             8732                      3   \n",
       "3        sxsw             2436             5325                      5   \n",
       "\n",
       "   echo_chamber_score          community_sizes  \\\n",
       "0            0.627835             [3985, 2581]   \n",
       "1            0.621917             [3933, 1154]   \n",
       "2            0.561706           [5346, 23, 91]   \n",
       "3            0.464753  [1568, 712, 85, 54, 17]   \n",
       "\n",
       "                                      community_ECIs       RWC        PI  \n",
       "0           [0.6251755742357289, 0.6319404680042986]  0.419960  0.314150  \n",
       "1           [0.6020493726635332, 0.6896280351698904]  0.512643  0.185957  \n",
       "2  [0.5622504817995841, 0.6304746701416013, 0.512...  0.272877  0.015645  \n",
       "3  [0.4515471280011807, 0.419006628225444, 0.8362...  0.482049  0.001514  "
      ]
     },
     "execution_count": 7,
     "metadata": {},
     "output_type": "execute_result"
    }
   ],
   "source": [
    "df"
   ]
  }
 ],
 "metadata": {
  "kernelspec": {
   "display_name": ".venv",
   "language": "python",
   "name": "python3"
  },
  "language_info": {
   "codemirror_mode": {
    "name": "ipython",
    "version": 3
   },
   "file_extension": ".py",
   "mimetype": "text/x-python",
   "name": "python",
   "nbconvert_exporter": "python",
   "pygments_lexer": "ipython3",
   "version": "3.10.13"
  },
  "orig_nbformat": 4
 },
 "nbformat": 4,
 "nbformat_minor": 2
}
