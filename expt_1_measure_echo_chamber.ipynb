{
 "cells": [
  {
   "cell_type": "code",
   "execution_count": 1,
   "metadata": {},
   "outputs": [
    {
     "data": {
      "text/plain": [
       "<torch._C.Generator at 0x7efed8178090>"
      ]
     },
     "execution_count": 1,
     "metadata": {},
     "output_type": "execute_result"
    }
   ],
   "source": [
    "import torch\n",
    "import random\n",
    "import numpy as np\n",
    "from sklearn.utils import check_random_state\n",
    "import pandas as pd\n",
    "\n",
    "\n",
    "random.seed(42)\n",
    "\n",
    "# Set the random seed for numpy\n",
    "np.random.seed(42)\n",
    "\n",
    "# Set the random seed for pandas\n",
    "# pd.np.random.seed(42)\n",
    "\n",
    "# Set the random seed for scikit-learn\n",
    "check_random_state(42)\n",
    "\n",
    "# Set the random seed for pytorch\n",
    "torch.manual_seed(42)"
   ]
  },
  {
   "cell_type": "code",
   "execution_count": 2,
   "metadata": {},
   "outputs": [
    {
     "name": "stderr",
     "output_type": "stream",
     "text": [
      "/home/faisal/miniconda3/envs/topics/lib/python3.11/site-packages/tqdm/auto.py:21: TqdmWarning: IProgress not found. Please update jupyter and ipywidgets. See https://ipywidgets.readthedocs.io/en/stable/user_install.html\n",
      "  from .autonotebook import tqdm as notebook_tqdm\n"
     ]
    }
   ],
   "source": [
    "from src.load_data import get_data\n",
    "from src.EchoGAE import EchoGAE_algorithm\n",
    "from src.echo_chamber_measure import EchoChamberMeasure\n",
    "\n",
    "\n",
    "# TODO: Work on baselines\n",
    "from networkx.algorithms.community import asyn_fluidc\n",
    "from src.baselines.RWC_jit import RWC\n",
    "# from src.baselines.RWC import RWC # If you don't have numba installed use this line instead but it will be slower\n",
    "\n",
    "from src.baselines.polarization_index import add_ideology_to_graph, opinion_model, get_polarization_index"
   ]
  },
  {
   "cell_type": "code",
   "execution_count": 3,
   "metadata": {},
   "outputs": [],
   "source": [
    "datasets = [\"gun\", \"abortion\", \"super_bowl\", \"sxsw\"]"
   ]
  },
  {
   "cell_type": "code",
   "execution_count": 4,
   "metadata": {},
   "outputs": [],
   "source": [
    "def add_ideology_to_graph_22(G, ideologies_dict):\n",
    "    G = G.copy()\n",
    "    core_nodes = []\n",
    "    for node in G.nodes():\n",
    "        if node in ideologies_dict:\n",
    "            G.nodes[node][\"ideology\"] = ideologies_dict[node]\n",
    "            core_nodes.append(node)\n",
    "        else:\n",
    "            G.nodes[node][\"ideology\"] = 0\n",
    "    return G, core_nodes"
   ]
  },
  {
   "cell_type": "code",
   "execution_count": 5,
   "metadata": {},
   "outputs": [
    {
     "name": "stdout",
     "output_type": "stream",
     "text": [
      "Dataset (gun): ECS = 0.715 --  RWC = 0.421 --  PI = 0.314\n",
      "\n",
      "\n",
      "Dataset (abortion): ECS = 0.614 --  RWC = 0.513 --  PI = 0.186\n",
      "\n",
      "\n",
      "Dataset (super_bowl): ECS = 0.487 --  RWC = 0.273 --  PI = 0.016\n",
      "\n",
      "\n",
      "Dataset (sxsw): ECS = 0.468 --  RWC = 0.480 --  PI = 0.002\n",
      "\n",
      "\n"
     ]
    }
   ],
   "source": [
    "experiments = []\n",
    "\n",
    "use_baseline = True\n",
    "\n",
    "for ds in datasets:\n",
    "    print(f\"Dataset ({ds}): \", end=\"\")\n",
    "    \n",
    "    ds_dict = {}\n",
    "    ds_dict[\"dataset\"] = ds\n",
    "\n",
    "    # Get the data\n",
    "    G, users_embeddings, labels, allsides_scores, node_id_map = get_data(f\"data/{ds}/\")\n",
    "\n",
    "    # Graph information\n",
    "    ds_dict[\"number_of_nodes\"] = G.number_of_nodes()\n",
    "    ds_dict[\"number_of_edges\"] = G.number_of_edges()\n",
    "    ds_dict[\"number_of_communities\"] = len(np.unique(labels))\n",
    "\n",
    "\n",
    "    # My metric\n",
    "    user_emb = EchoGAE_algorithm(G, user_embeddings= users_embeddings, show_progress=False, hidden_channels = 20, out_channels=10, epochs=300)\n",
    "    ecm = EchoChamberMeasure(user_emb, labels)\n",
    "    eci = ecm.echo_chamber_index()\n",
    "    ds_dict[\"echo_chamber_score\"] = eci\n",
    "\n",
    "    print(f\"ECS = {eci:.3f} -- \", end=\" \")\n",
    "\n",
    "    # For communities ECIs and Sizes\n",
    "    sizes = []\n",
    "    ECSs = []\n",
    "\n",
    "    for i in np.unique(labels):\n",
    "        sizes.append(np.sum(labels == i))\n",
    "        ECSs.append(ecm.community_echo_chamber_index(i))\n",
    "\n",
    "    ds_dict[\"community_sizes\"] = sizes\n",
    "    ds_dict[\"community_ECIs\"] = ECSs\n",
    "\n",
    "\n",
    "    if use_baseline:\n",
    "        # Baseline\n",
    "        mem = asyn_fluidc(G, k=2, seed=42, max_iter=1000)\n",
    "        mem = list(mem)\n",
    "\n",
    "        nodes_0 = np.array(list(mem[0]))\n",
    "        nodes_1 = np.array(list(mem[1]))\n",
    "\n",
    "\n",
    "        rwc = RWC(G, nodes_0, nodes_1)\n",
    "        ds_dict[\"RWC\"] = rwc\n",
    "        print(f\"RWC = {rwc:.3f} -- \", end=\" \")\n",
    "\n",
    "\n",
    "        # Valenzuela metric\n",
    "        G_ven, core_nodes = add_ideology_to_graph_22(G, allsides_scores)\n",
    "        opinions = opinion_model(G_ven, core_nodes=core_nodes)\n",
    "        polarization_index = get_polarization_index(opinions)[0]\n",
    "\n",
    "        ds_dict[\"PI\"] = polarization_index\n",
    "        print(f\"PI = {polarization_index:.3f}\")\n",
    "    else:\n",
    "        print(\"\")\n",
    "\n",
    "    experiments.append(ds_dict)\n",
    "\n",
    "    print(\"\\n\")"
   ]
  },
  {
   "cell_type": "code",
   "execution_count": 6,
   "metadata": {},
   "outputs": [],
   "source": [
    "df = pd.DataFrame(experiments)"
   ]
  },
  {
   "cell_type": "code",
   "execution_count": 7,
   "metadata": {},
   "outputs": [
    {
     "data": {
      "text/html": [
       "<div>\n",
       "<style scoped>\n",
       "    .dataframe tbody tr th:only-of-type {\n",
       "        vertical-align: middle;\n",
       "    }\n",
       "\n",
       "    .dataframe tbody tr th {\n",
       "        vertical-align: top;\n",
       "    }\n",
       "\n",
       "    .dataframe thead th {\n",
       "        text-align: right;\n",
       "    }\n",
       "</style>\n",
       "<table border=\"1\" class=\"dataframe\">\n",
       "  <thead>\n",
       "    <tr style=\"text-align: right;\">\n",
       "      <th></th>\n",
       "      <th>dataset</th>\n",
       "      <th>number_of_nodes</th>\n",
       "      <th>number_of_edges</th>\n",
       "      <th>number_of_communities</th>\n",
       "      <th>echo_chamber_score</th>\n",
       "      <th>community_sizes</th>\n",
       "      <th>community_ECIs</th>\n",
       "      <th>RWC</th>\n",
       "      <th>PI</th>\n",
       "    </tr>\n",
       "  </thead>\n",
       "  <tbody>\n",
       "    <tr>\n",
       "      <th>0</th>\n",
       "      <td>gun</td>\n",
       "      <td>6566</td>\n",
       "      <td>14322</td>\n",
       "      <td>2</td>\n",
       "      <td>0.714684</td>\n",
       "      <td>[3984, 2582]</td>\n",
       "      <td>[0.7393391787689997, 0.676642154010187]</td>\n",
       "      <td>0.420896</td>\n",
       "      <td>0.314150</td>\n",
       "    </tr>\n",
       "    <tr>\n",
       "      <th>1</th>\n",
       "      <td>abortion</td>\n",
       "      <td>5087</td>\n",
       "      <td>10572</td>\n",
       "      <td>2</td>\n",
       "      <td>0.614000</td>\n",
       "      <td>[3933, 1154]</td>\n",
       "      <td>[0.5983386571853089, 0.6673743112935674]</td>\n",
       "      <td>0.513219</td>\n",
       "      <td>0.185957</td>\n",
       "    </tr>\n",
       "    <tr>\n",
       "      <th>2</th>\n",
       "      <td>super_bowl</td>\n",
       "      <td>5460</td>\n",
       "      <td>8732</td>\n",
       "      <td>3</td>\n",
       "      <td>0.486666</td>\n",
       "      <td>[23, 5398, 39]</td>\n",
       "      <td>[0.8093488340891872, 0.4825389652121271, 0.867...</td>\n",
       "      <td>0.273380</td>\n",
       "      <td>0.015645</td>\n",
       "    </tr>\n",
       "    <tr>\n",
       "      <th>3</th>\n",
       "      <td>sxsw</td>\n",
       "      <td>2436</td>\n",
       "      <td>5325</td>\n",
       "      <td>6</td>\n",
       "      <td>0.467519</td>\n",
       "      <td>[1532, 34, 85, 717, 54, 14]</td>\n",
       "      <td>[0.41139140266375696, 0.792245645786395, 0.815...</td>\n",
       "      <td>0.479801</td>\n",
       "      <td>0.001514</td>\n",
       "    </tr>\n",
       "  </tbody>\n",
       "</table>\n",
       "</div>"
      ],
      "text/plain": [
       "      dataset  number_of_nodes  number_of_edges  number_of_communities  \\\n",
       "0         gun             6566            14322                      2   \n",
       "1    abortion             5087            10572                      2   \n",
       "2  super_bowl             5460             8732                      3   \n",
       "3        sxsw             2436             5325                      6   \n",
       "\n",
       "   echo_chamber_score              community_sizes  \\\n",
       "0            0.714684                 [3984, 2582]   \n",
       "1            0.614000                 [3933, 1154]   \n",
       "2            0.486666               [23, 5398, 39]   \n",
       "3            0.467519  [1532, 34, 85, 717, 54, 14]   \n",
       "\n",
       "                                      community_ECIs       RWC        PI  \n",
       "0            [0.7393391787689997, 0.676642154010187]  0.420896  0.314150  \n",
       "1           [0.5983386571853089, 0.6673743112935674]  0.513219  0.185957  \n",
       "2  [0.8093488340891872, 0.4825389652121271, 0.867...  0.273380  0.015645  \n",
       "3  [0.41139140266375696, 0.792245645786395, 0.815...  0.479801  0.001514  "
      ]
     },
     "execution_count": 7,
     "metadata": {},
     "output_type": "execute_result"
    }
   ],
   "source": [
    "df"
   ]
  }
 ],
 "metadata": {
  "kernelspec": {
   "display_name": ".venv",
   "language": "python",
   "name": "python3"
  },
  "language_info": {
   "codemirror_mode": {
    "name": "ipython",
    "version": 3
   },
   "file_extension": ".py",
   "mimetype": "text/x-python",
   "name": "python",
   "nbconvert_exporter": "python",
   "pygments_lexer": "ipython3",
   "version": "3.11.3"
  },
  "orig_nbformat": 4
 },
 "nbformat": 4,
 "nbformat_minor": 2
}
