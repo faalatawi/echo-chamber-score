{
 "cells": [
  {
   "cell_type": "code",
   "execution_count": 1,
   "metadata": {},
   "outputs": [
    {
     "data": {
      "text/plain": [
       "<torch._C.Generator at 0x7f16063c4070>"
      ]
     },
     "execution_count": 1,
     "metadata": {},
     "output_type": "execute_result"
    }
   ],
   "source": [
    "import torch\n",
    "import random\n",
    "import numpy as np\n",
    "from sklearn.utils import check_random_state\n",
    "import pandas as pd\n",
    "\n",
    "\n",
    "random.seed(42)\n",
    "\n",
    "# Set the random seed for numpy\n",
    "np.random.seed(42)\n",
    "\n",
    "# Set the random seed for pandas\n",
    "# pd.np.random.seed(42)\n",
    "\n",
    "# Set the random seed for scikit-learn\n",
    "check_random_state(42)\n",
    "\n",
    "# Set the random seed for pytorch\n",
    "torch.manual_seed(42)"
   ]
  },
  {
   "cell_type": "code",
   "execution_count": 2,
   "metadata": {},
   "outputs": [
    {
     "name": "stderr",
     "output_type": "stream",
     "text": [
      "/home/faisal/miniconda3/envs/topics/lib/python3.11/site-packages/tqdm/auto.py:21: TqdmWarning: IProgress not found. Please update jupyter and ipywidgets. See https://ipywidgets.readthedocs.io/en/stable/user_install.html\n",
      "  from .autonotebook import tqdm as notebook_tqdm\n"
     ]
    }
   ],
   "source": [
    "from src.load_data import get_data\n",
    "from src.EchoGAE import EchoGAE_algorithm\n",
    "from src.echo_chamber_measure import EchoChamberMeasure\n",
    "\n",
    "\n",
    "# TODO: Work on baselines\n",
    "from networkx.algorithms.community import asyn_fluidc\n",
    "from src.baselines.RWC_jit import RWC\n",
    "# from src.baselines.RWC import RWC # If you don't have numba installed use this line instead but it will be slower\n",
    "\n",
    "from src.baselines.polarization_index import add_ideology_to_graph, opinion_model, get_polarization_index"
   ]
  },
  {
   "cell_type": "code",
   "execution_count": 23,
   "metadata": {},
   "outputs": [
    {
     "name": "stdout",
     "output_type": "stream",
     "text": [
      "Dataset:  sxsw\n"
     ]
    }
   ],
   "source": [
    "datasets = [\"gun\", \"abortion\", \"super_bowl\", \"sxsw\"]\n",
    "ds = datasets[3]\n",
    "\n",
    "print(\"Dataset: \", ds)"
   ]
  },
  {
   "attachments": {},
   "cell_type": "markdown",
   "metadata": {},
   "source": [
    "# Echo Chamber Score:"
   ]
  },
  {
   "cell_type": "code",
   "execution_count": 24,
   "metadata": {},
   "outputs": [],
   "source": [
    "G, users_embeddings, labels, allsides_scores, node_id_map = get_data(f\"data/{ds}/\")"
   ]
  },
  {
   "cell_type": "code",
   "execution_count": 25,
   "metadata": {},
   "outputs": [
    {
     "name": "stdout",
     "output_type": "stream",
     "text": [
      "Number of nodes:  2436\n",
      "Number of edges:  5325\n",
      "\n",
      "Number of communities:  6\n",
      "Number of nodes in community 0:  1532\n",
      "Number of nodes in community 1:  34\n",
      "Number of nodes in community 2:  85\n",
      "Number of nodes in community 3:  717\n",
      "Number of nodes in community 4:  54\n",
      "Number of nodes in community 5:  14\n",
      "\n",
      "Number of users with AllSides score:  200\n"
     ]
    }
   ],
   "source": [
    "print(\"Number of nodes: \", G.number_of_nodes())\n",
    "print(\"Number of edges: \", G.number_of_edges())\n",
    "\n",
    "print(\"\")\n",
    "num_of_communities = labels.max() + 1\n",
    "print(\"Number of communities: \", num_of_communities)\n",
    "\n",
    "for i in range(num_of_communities):\n",
    "    print(f\"Number of nodes in community {i}: \", (labels == i).sum())\n",
    "\n",
    "print(\"\")\n",
    "print(\"Number of users with AllSides score: \", len(allsides_scores))"
   ]
  },
  {
   "cell_type": "code",
   "execution_count": 37,
   "metadata": {},
   "outputs": [
    {
     "name": "stdout",
     "output_type": "stream",
     "text": [
      "Epoch: 001, AUC: 0.7465, AP: 0.7775\n",
      "Epoch: 002, AUC: 0.7641, AP: 0.7877\n",
      "Epoch: 003, AUC: 0.7707, AP: 0.7915\n",
      "Epoch: 004, AUC: 0.7652, AP: 0.7891\n",
      "Epoch: 005, AUC: 0.7542, AP: 0.7835\n",
      "Epoch: 006, AUC: 0.7392, AP: 0.7761\n",
      "Epoch: 007, AUC: 0.7275, AP: 0.7706\n",
      "Epoch: 008, AUC: 0.7215, AP: 0.7682\n",
      "Epoch: 009, AUC: 0.7198, AP: 0.7680\n",
      "Epoch: 010, AUC: 0.7211, AP: 0.7691\n",
      "Epoch: 011, AUC: 0.7230, AP: 0.7706\n",
      "Epoch: 012, AUC: 0.7259, AP: 0.7734\n",
      "Epoch: 013, AUC: 0.7294, AP: 0.7765\n",
      "Epoch: 014, AUC: 0.7368, AP: 0.7817\n",
      "Epoch: 015, AUC: 0.7559, AP: 0.7925\n",
      "Epoch: 016, AUC: 0.7870, AP: 0.8101\n",
      "Epoch: 017, AUC: 0.8194, AP: 0.8307\n",
      "Epoch: 018, AUC: 0.8412, AP: 0.8465\n",
      "Epoch: 019, AUC: 0.8531, AP: 0.8563\n",
      "Epoch: 020, AUC: 0.8590, AP: 0.8614\n",
      "Epoch: 021, AUC: 0.8624, AP: 0.8645\n",
      "Epoch: 022, AUC: 0.8654, AP: 0.8662\n",
      "Epoch: 023, AUC: 0.8678, AP: 0.8663\n",
      "Epoch: 024, AUC: 0.8680, AP: 0.8643\n",
      "Epoch: 025, AUC: 0.8648, AP: 0.8595\n",
      "Epoch: 026, AUC: 0.8579, AP: 0.8529\n",
      "Epoch: 027, AUC: 0.8534, AP: 0.8497\n",
      "Epoch: 028, AUC: 0.8544, AP: 0.8509\n",
      "Epoch: 029, AUC: 0.8588, AP: 0.8536\n",
      "Epoch: 030, AUC: 0.8613, AP: 0.8553\n",
      "Epoch: 031, AUC: 0.8609, AP: 0.8561\n",
      "Epoch: 032, AUC: 0.8603, AP: 0.8573\n",
      "Epoch: 033, AUC: 0.8596, AP: 0.8588\n",
      "Epoch: 034, AUC: 0.8622, AP: 0.8635\n",
      "Epoch: 035, AUC: 0.8655, AP: 0.8682\n",
      "Epoch: 036, AUC: 0.8664, AP: 0.8714\n",
      "Epoch: 037, AUC: 0.8663, AP: 0.8724\n",
      "Epoch: 038, AUC: 0.8653, AP: 0.8727\n",
      "Epoch: 039, AUC: 0.8638, AP: 0.8723\n",
      "Epoch: 040, AUC: 0.8629, AP: 0.8720\n",
      "Epoch: 041, AUC: 0.8623, AP: 0.8717\n",
      "Epoch: 042, AUC: 0.8626, AP: 0.8721\n",
      "Epoch: 043, AUC: 0.8635, AP: 0.8727\n",
      "Epoch: 044, AUC: 0.8649, AP: 0.8738\n",
      "Epoch: 045, AUC: 0.8668, AP: 0.8753\n",
      "Epoch: 046, AUC: 0.8684, AP: 0.8768\n",
      "Epoch: 047, AUC: 0.8704, AP: 0.8780\n",
      "Epoch: 048, AUC: 0.8719, AP: 0.8785\n",
      "Epoch: 049, AUC: 0.8732, AP: 0.8793\n",
      "Epoch: 050, AUC: 0.8743, AP: 0.8798\n",
      "Epoch: 051, AUC: 0.8751, AP: 0.8801\n",
      "Epoch: 052, AUC: 0.8758, AP: 0.8801\n",
      "Epoch: 053, AUC: 0.8762, AP: 0.8798\n",
      "Epoch: 054, AUC: 0.8765, AP: 0.8794\n",
      "Epoch: 055, AUC: 0.8771, AP: 0.8792\n",
      "Epoch: 056, AUC: 0.8781, AP: 0.8800\n",
      "Epoch: 057, AUC: 0.8783, AP: 0.8810\n",
      "Epoch: 058, AUC: 0.8791, AP: 0.8818\n",
      "Epoch: 059, AUC: 0.8801, AP: 0.8826\n",
      "Epoch: 060, AUC: 0.8809, AP: 0.8833\n",
      "Epoch: 061, AUC: 0.8814, AP: 0.8837\n",
      "Epoch: 062, AUC: 0.8815, AP: 0.8839\n",
      "Epoch: 063, AUC: 0.8824, AP: 0.8857\n",
      "Epoch: 064, AUC: 0.8822, AP: 0.8859\n",
      "Epoch: 065, AUC: 0.8830, AP: 0.8866\n",
      "Epoch: 066, AUC: 0.8830, AP: 0.8862\n",
      "Epoch: 067, AUC: 0.8838, AP: 0.8871\n",
      "Epoch: 068, AUC: 0.8851, AP: 0.8894\n",
      "Epoch: 069, AUC: 0.8854, AP: 0.8900\n",
      "Epoch: 070, AUC: 0.8871, AP: 0.8916\n",
      "Epoch: 071, AUC: 0.8872, AP: 0.8906\n",
      "Epoch: 072, AUC: 0.8881, AP: 0.8918\n",
      "Epoch: 073, AUC: 0.8891, AP: 0.8936\n",
      "Epoch: 074, AUC: 0.8899, AP: 0.8945\n",
      "Epoch: 075, AUC: 0.8908, AP: 0.8953\n",
      "Epoch: 076, AUC: 0.8918, AP: 0.8954\n",
      "Epoch: 077, AUC: 0.8922, AP: 0.8958\n",
      "Epoch: 078, AUC: 0.8933, AP: 0.8972\n",
      "Epoch: 079, AUC: 0.8939, AP: 0.8985\n",
      "Epoch: 080, AUC: 0.8947, AP: 0.8995\n",
      "Epoch: 081, AUC: 0.8956, AP: 0.9000\n",
      "Epoch: 082, AUC: 0.8959, AP: 0.8998\n",
      "Epoch: 083, AUC: 0.8966, AP: 0.9009\n",
      "Epoch: 084, AUC: 0.8979, AP: 0.9034\n",
      "Epoch: 085, AUC: 0.8985, AP: 0.9043\n",
      "Epoch: 086, AUC: 0.9000, AP: 0.9057\n",
      "Epoch: 087, AUC: 0.9002, AP: 0.9057\n",
      "Epoch: 088, AUC: 0.9012, AP: 0.9070\n",
      "Epoch: 089, AUC: 0.9021, AP: 0.9084\n",
      "Epoch: 090, AUC: 0.9028, AP: 0.9091\n",
      "Epoch: 091, AUC: 0.9036, AP: 0.9101\n",
      "Epoch: 092, AUC: 0.9033, AP: 0.9099\n",
      "Epoch: 093, AUC: 0.9034, AP: 0.9101\n",
      "Epoch: 094, AUC: 0.9044, AP: 0.9112\n",
      "Epoch: 095, AUC: 0.9047, AP: 0.9117\n",
      "Epoch: 096, AUC: 0.9046, AP: 0.9120\n",
      "Epoch: 097, AUC: 0.9036, AP: 0.9110\n",
      "Epoch: 098, AUC: 0.9034, AP: 0.9107\n",
      "Epoch: 099, AUC: 0.9040, AP: 0.9115\n",
      "Epoch: 100, AUC: 0.9049, AP: 0.9126\n",
      "Epoch: 101, AUC: 0.9052, AP: 0.9131\n",
      "Epoch: 102, AUC: 0.9050, AP: 0.9131\n",
      "Epoch: 103, AUC: 0.9047, AP: 0.9130\n",
      "Epoch: 104, AUC: 0.9057, AP: 0.9141\n",
      "Epoch: 105, AUC: 0.9064, AP: 0.9144\n",
      "Epoch: 106, AUC: 0.9064, AP: 0.9142\n",
      "Epoch: 107, AUC: 0.9066, AP: 0.9150\n",
      "Epoch: 108, AUC: 0.9064, AP: 0.9149\n",
      "Epoch: 109, AUC: 0.9078, AP: 0.9165\n",
      "Epoch: 110, AUC: 0.9088, AP: 0.9174\n",
      "Epoch: 111, AUC: 0.9088, AP: 0.9172\n",
      "Epoch: 112, AUC: 0.9081, AP: 0.9162\n",
      "Epoch: 113, AUC: 0.9081, AP: 0.9162\n",
      "Epoch: 114, AUC: 0.9093, AP: 0.9177\n",
      "Epoch: 115, AUC: 0.9104, AP: 0.9188\n",
      "Epoch: 116, AUC: 0.9107, AP: 0.9190\n",
      "Epoch: 117, AUC: 0.9107, AP: 0.9188\n",
      "Epoch: 118, AUC: 0.9108, AP: 0.9188\n",
      "Epoch: 119, AUC: 0.9112, AP: 0.9192\n",
      "Epoch: 120, AUC: 0.9109, AP: 0.9190\n",
      "Epoch: 121, AUC: 0.9114, AP: 0.9195\n",
      "Epoch: 122, AUC: 0.9124, AP: 0.9205\n",
      "Epoch: 123, AUC: 0.9128, AP: 0.9209\n",
      "Epoch: 124, AUC: 0.9128, AP: 0.9209\n",
      "Epoch: 125, AUC: 0.9117, AP: 0.9196\n",
      "Epoch: 126, AUC: 0.9115, AP: 0.9195\n",
      "Epoch: 127, AUC: 0.9127, AP: 0.9209\n",
      "Epoch: 128, AUC: 0.9132, AP: 0.9214\n",
      "Epoch: 129, AUC: 0.9131, AP: 0.9216\n",
      "Epoch: 130, AUC: 0.9119, AP: 0.9206\n",
      "Epoch: 131, AUC: 0.9121, AP: 0.9208\n",
      "Epoch: 132, AUC: 0.9137, AP: 0.9224\n",
      "Epoch: 133, AUC: 0.9138, AP: 0.9228\n",
      "Epoch: 134, AUC: 0.9129, AP: 0.9222\n",
      "Epoch: 135, AUC: 0.9125, AP: 0.9219\n",
      "Epoch: 136, AUC: 0.9139, AP: 0.9233\n",
      "Epoch: 137, AUC: 0.9147, AP: 0.9239\n",
      "Epoch: 138, AUC: 0.9151, AP: 0.9242\n",
      "Epoch: 139, AUC: 0.9152, AP: 0.9242\n",
      "Epoch: 140, AUC: 0.9147, AP: 0.9236\n",
      "Epoch: 141, AUC: 0.9162, AP: 0.9248\n",
      "Epoch: 142, AUC: 0.9170, AP: 0.9257\n",
      "Epoch: 143, AUC: 0.9170, AP: 0.9254\n",
      "Epoch: 144, AUC: 0.9162, AP: 0.9243\n",
      "Epoch: 145, AUC: 0.9151, AP: 0.9232\n",
      "Epoch: 146, AUC: 0.9160, AP: 0.9244\n",
      "Epoch: 147, AUC: 0.9174, AP: 0.9257\n",
      "Epoch: 148, AUC: 0.9179, AP: 0.9261\n",
      "Epoch: 149, AUC: 0.9171, AP: 0.9252\n",
      "Epoch: 150, AUC: 0.9169, AP: 0.9250\n",
      "Epoch: 151, AUC: 0.9172, AP: 0.9251\n",
      "Epoch: 152, AUC: 0.9167, AP: 0.9247\n",
      "Epoch: 153, AUC: 0.9167, AP: 0.9248\n",
      "Epoch: 154, AUC: 0.9164, AP: 0.9244\n",
      "Epoch: 155, AUC: 0.9173, AP: 0.9254\n",
      "Epoch: 156, AUC: 0.9181, AP: 0.9265\n",
      "Epoch: 157, AUC: 0.9183, AP: 0.9266\n",
      "Epoch: 158, AUC: 0.9187, AP: 0.9268\n",
      "Epoch: 159, AUC: 0.9178, AP: 0.9254\n",
      "Epoch: 160, AUC: 0.9188, AP: 0.9266\n",
      "Epoch: 161, AUC: 0.9198, AP: 0.9278\n",
      "Epoch: 162, AUC: 0.9195, AP: 0.9277\n",
      "Epoch: 163, AUC: 0.9194, AP: 0.9271\n",
      "Epoch: 164, AUC: 0.9193, AP: 0.9269\n",
      "Epoch: 165, AUC: 0.9198, AP: 0.9274\n",
      "Epoch: 166, AUC: 0.9203, AP: 0.9280\n",
      "Epoch: 167, AUC: 0.9200, AP: 0.9280\n",
      "Epoch: 168, AUC: 0.9195, AP: 0.9275\n",
      "Epoch: 169, AUC: 0.9200, AP: 0.9277\n",
      "Epoch: 170, AUC: 0.9199, AP: 0.9274\n",
      "Epoch: 171, AUC: 0.9193, AP: 0.9272\n",
      "Epoch: 172, AUC: 0.9189, AP: 0.9269\n",
      "Epoch: 173, AUC: 0.9204, AP: 0.9282\n",
      "Epoch: 174, AUC: 0.9219, AP: 0.9295\n",
      "Epoch: 175, AUC: 0.9214, AP: 0.9288\n",
      "Epoch: 176, AUC: 0.9194, AP: 0.9268\n",
      "Epoch: 177, AUC: 0.9201, AP: 0.9278\n",
      "Epoch: 178, AUC: 0.9218, AP: 0.9298\n",
      "Epoch: 179, AUC: 0.9224, AP: 0.9303\n",
      "Epoch: 180, AUC: 0.9215, AP: 0.9293\n",
      "Epoch: 181, AUC: 0.9203, AP: 0.9278\n",
      "Epoch: 182, AUC: 0.9219, AP: 0.9294\n",
      "Epoch: 183, AUC: 0.9227, AP: 0.9304\n",
      "Epoch: 184, AUC: 0.9216, AP: 0.9293\n",
      "Epoch: 185, AUC: 0.9225, AP: 0.9298\n",
      "Epoch: 186, AUC: 0.9228, AP: 0.9298\n",
      "Epoch: 187, AUC: 0.9223, AP: 0.9291\n",
      "Epoch: 188, AUC: 0.9227, AP: 0.9296\n",
      "Epoch: 189, AUC: 0.9220, AP: 0.9293\n",
      "Epoch: 190, AUC: 0.9223, AP: 0.9296\n",
      "Epoch: 191, AUC: 0.9232, AP: 0.9301\n",
      "Epoch: 192, AUC: 0.9231, AP: 0.9298\n",
      "Epoch: 193, AUC: 0.9223, AP: 0.9293\n",
      "Epoch: 194, AUC: 0.9219, AP: 0.9291\n",
      "Epoch: 195, AUC: 0.9229, AP: 0.9300\n",
      "Epoch: 196, AUC: 0.9241, AP: 0.9310\n",
      "Epoch: 197, AUC: 0.9241, AP: 0.9310\n",
      "Epoch: 198, AUC: 0.9231, AP: 0.9299\n",
      "Epoch: 199, AUC: 0.9237, AP: 0.9303\n",
      "Epoch: 200, AUC: 0.9253, AP: 0.9318\n",
      "Epoch: 201, AUC: 0.9252, AP: 0.9320\n",
      "Epoch: 202, AUC: 0.9230, AP: 0.9294\n",
      "Epoch: 203, AUC: 0.9235, AP: 0.9301\n",
      "Epoch: 204, AUC: 0.9259, AP: 0.9327\n",
      "Epoch: 205, AUC: 0.9263, AP: 0.9331\n",
      "Epoch: 206, AUC: 0.9250, AP: 0.9318\n",
      "Epoch: 207, AUC: 0.9232, AP: 0.9299\n",
      "Epoch: 208, AUC: 0.9250, AP: 0.9317\n",
      "Epoch: 209, AUC: 0.9262, AP: 0.9327\n",
      "Epoch: 210, AUC: 0.9255, AP: 0.9319\n",
      "Epoch: 211, AUC: 0.9229, AP: 0.9294\n",
      "Epoch: 212, AUC: 0.9246, AP: 0.9311\n",
      "Epoch: 213, AUC: 0.9265, AP: 0.9327\n",
      "Epoch: 214, AUC: 0.9265, AP: 0.9323\n",
      "Epoch: 215, AUC: 0.9249, AP: 0.9304\n",
      "Epoch: 216, AUC: 0.9257, AP: 0.9318\n",
      "Epoch: 217, AUC: 0.9272, AP: 0.9332\n",
      "Epoch: 218, AUC: 0.9264, AP: 0.9320\n",
      "Epoch: 219, AUC: 0.9260, AP: 0.9315\n",
      "Epoch: 220, AUC: 0.9274, AP: 0.9333\n",
      "Epoch: 221, AUC: 0.9270, AP: 0.9333\n",
      "Epoch: 222, AUC: 0.9262, AP: 0.9326\n",
      "Epoch: 223, AUC: 0.9265, AP: 0.9326\n",
      "Epoch: 224, AUC: 0.9278, AP: 0.9335\n",
      "Epoch: 225, AUC: 0.9281, AP: 0.9337\n",
      "Epoch: 226, AUC: 0.9273, AP: 0.9335\n",
      "Epoch: 227, AUC: 0.9268, AP: 0.9331\n",
      "Epoch: 228, AUC: 0.9286, AP: 0.9346\n",
      "Epoch: 229, AUC: 0.9279, AP: 0.9333\n",
      "Epoch: 230, AUC: 0.9287, AP: 0.9341\n",
      "Epoch: 231, AUC: 0.9296, AP: 0.9352\n",
      "Epoch: 232, AUC: 0.9299, AP: 0.9357\n",
      "Epoch: 233, AUC: 0.9286, AP: 0.9340\n",
      "Epoch: 234, AUC: 0.9289, AP: 0.9341\n",
      "Epoch: 235, AUC: 0.9299, AP: 0.9352\n",
      "Epoch: 236, AUC: 0.9304, AP: 0.9360\n",
      "Epoch: 237, AUC: 0.9292, AP: 0.9349\n",
      "Epoch: 238, AUC: 0.9286, AP: 0.9341\n",
      "Epoch: 239, AUC: 0.9295, AP: 0.9347\n",
      "Epoch: 240, AUC: 0.9308, AP: 0.9360\n",
      "Epoch: 241, AUC: 0.9297, AP: 0.9350\n",
      "Epoch: 242, AUC: 0.9289, AP: 0.9340\n",
      "Epoch: 243, AUC: 0.9295, AP: 0.9342\n",
      "Epoch: 244, AUC: 0.9312, AP: 0.9359\n",
      "Epoch: 245, AUC: 0.9313, AP: 0.9362\n",
      "Epoch: 246, AUC: 0.9292, AP: 0.9345\n",
      "Epoch: 247, AUC: 0.9296, AP: 0.9345\n",
      "Epoch: 248, AUC: 0.9309, AP: 0.9354\n",
      "Epoch: 249, AUC: 0.9319, AP: 0.9364\n",
      "Epoch: 250, AUC: 0.9308, AP: 0.9356\n",
      "Epoch: 251, AUC: 0.9293, AP: 0.9346\n",
      "Epoch: 252, AUC: 0.9296, AP: 0.9349\n",
      "Epoch: 253, AUC: 0.9310, AP: 0.9361\n",
      "Epoch: 254, AUC: 0.9312, AP: 0.9363\n",
      "Epoch: 255, AUC: 0.9294, AP: 0.9348\n",
      "Epoch: 256, AUC: 0.9289, AP: 0.9343\n",
      "Epoch: 257, AUC: 0.9309, AP: 0.9359\n",
      "Epoch: 258, AUC: 0.9312, AP: 0.9362\n",
      "Epoch: 259, AUC: 0.9297, AP: 0.9350\n",
      "Epoch: 260, AUC: 0.9288, AP: 0.9343\n",
      "Epoch: 261, AUC: 0.9314, AP: 0.9365\n",
      "Epoch: 262, AUC: 0.9302, AP: 0.9351\n",
      "Epoch: 263, AUC: 0.9285, AP: 0.9334\n",
      "Epoch: 264, AUC: 0.9304, AP: 0.9353\n",
      "Epoch: 265, AUC: 0.9326, AP: 0.9371\n",
      "Epoch: 266, AUC: 0.9316, AP: 0.9359\n",
      "Epoch: 267, AUC: 0.9293, AP: 0.9337\n",
      "Epoch: 268, AUC: 0.9293, AP: 0.9341\n",
      "Epoch: 269, AUC: 0.9323, AP: 0.9366\n",
      "Epoch: 270, AUC: 0.9328, AP: 0.9369\n",
      "Epoch: 271, AUC: 0.9295, AP: 0.9341\n",
      "Epoch: 272, AUC: 0.9295, AP: 0.9341\n",
      "Epoch: 273, AUC: 0.9320, AP: 0.9366\n",
      "Epoch: 274, AUC: 0.9326, AP: 0.9371\n",
      "Epoch: 275, AUC: 0.9306, AP: 0.9356\n",
      "Epoch: 276, AUC: 0.9301, AP: 0.9351\n",
      "Epoch: 277, AUC: 0.9323, AP: 0.9366\n",
      "Epoch: 278, AUC: 0.9324, AP: 0.9370\n",
      "Epoch: 279, AUC: 0.9300, AP: 0.9353\n",
      "Epoch: 280, AUC: 0.9312, AP: 0.9364\n",
      "Epoch: 281, AUC: 0.9320, AP: 0.9370\n",
      "Epoch: 282, AUC: 0.9322, AP: 0.9370\n",
      "Epoch: 283, AUC: 0.9315, AP: 0.9361\n",
      "Epoch: 284, AUC: 0.9307, AP: 0.9352\n",
      "Epoch: 285, AUC: 0.9325, AP: 0.9365\n",
      "Epoch: 286, AUC: 0.9335, AP: 0.9375\n",
      "Epoch: 287, AUC: 0.9326, AP: 0.9368\n",
      "Epoch: 288, AUC: 0.9311, AP: 0.9355\n",
      "Epoch: 289, AUC: 0.9325, AP: 0.9365\n",
      "Epoch: 290, AUC: 0.9333, AP: 0.9371\n",
      "Epoch: 291, AUC: 0.9322, AP: 0.9362\n",
      "Epoch: 292, AUC: 0.9319, AP: 0.9360\n",
      "Epoch: 293, AUC: 0.9320, AP: 0.9363\n",
      "Epoch: 294, AUC: 0.9325, AP: 0.9367\n",
      "Epoch: 295, AUC: 0.9316, AP: 0.9357\n",
      "Epoch: 296, AUC: 0.9317, AP: 0.9357\n",
      "Epoch: 297, AUC: 0.9333, AP: 0.9371\n",
      "Epoch: 298, AUC: 0.9336, AP: 0.9373\n",
      "Epoch: 299, AUC: 0.9316, AP: 0.9358\n",
      "Epoch: 300, AUC: 0.9318, AP: 0.9360\n"
     ]
    }
   ],
   "source": [
    "user_emb = EchoGAE_algorithm(G, user_embeddings= users_embeddings,show_progress=True, hidden_channels = 20, out_channels=10, epochs=300)"
   ]
  },
  {
   "cell_type": "code",
   "execution_count": 38,
   "metadata": {},
   "outputs": [],
   "source": [
    "ecm = EchoChamberMeasure(user_emb, labels)"
   ]
  },
  {
   "cell_type": "code",
   "execution_count": 39,
   "metadata": {},
   "outputs": [
    {
     "data": {
      "text/plain": [
       "0.46833934688724504"
      ]
     },
     "execution_count": 39,
     "metadata": {},
     "output_type": "execute_result"
    }
   ],
   "source": [
    "ecm.echo_chamber_index()"
   ]
  },
  {
   "attachments": {},
   "cell_type": "markdown",
   "metadata": {},
   "source": [
    "# Baselines:\n",
    "\n",
    "## 1. Random Walk Controversy Score"
   ]
  },
  {
   "cell_type": "code",
   "execution_count": 40,
   "metadata": {},
   "outputs": [],
   "source": [
    "mem = asyn_fluidc(G, k=2, seed=42, max_iter=1000)\n",
    "mem = list(mem)\n",
    "\n",
    "nodes_0 = np.array(list(mem[0]))\n",
    "nodes_1 = np.array(list(mem[1]))"
   ]
  },
  {
   "cell_type": "code",
   "execution_count": 41,
   "metadata": {},
   "outputs": [
    {
     "data": {
      "text/plain": [
       "0.485014087571752"
      ]
     },
     "execution_count": 41,
     "metadata": {},
     "output_type": "execute_result"
    }
   ],
   "source": [
    "RWC(G, nodes_0, nodes_1)"
   ]
  },
  {
   "attachments": {},
   "cell_type": "markdown",
   "metadata": {},
   "source": [
    "## 2. Polarization Index:"
   ]
  },
  {
   "cell_type": "code",
   "execution_count": 42,
   "metadata": {},
   "outputs": [],
   "source": [
    "def add_ideology_to_graph_22(G, ideologies_dict):\n",
    "    G = G.copy()\n",
    "    core_nodes = []\n",
    "    for node in G.nodes():\n",
    "        if node in ideologies_dict:\n",
    "            G.nodes[node][\"ideology\"] = ideologies_dict[node]\n",
    "            core_nodes.append(node)\n",
    "        else:\n",
    "            G.nodes[node][\"ideology\"] = 0\n",
    "    return G, core_nodes"
   ]
  },
  {
   "cell_type": "code",
   "execution_count": 43,
   "metadata": {},
   "outputs": [],
   "source": [
    "G_ven, core_nodes = add_ideology_to_graph_22(G, allsides_scores)\n",
    "opinions = opinion_model(G_ven, core_nodes=core_nodes)\n",
    "polarization_index = get_polarization_index(opinions)[0]"
   ]
  },
  {
   "cell_type": "code",
   "execution_count": 44,
   "metadata": {},
   "outputs": [
    {
     "data": {
      "text/plain": [
       "0.0015141484435409224"
      ]
     },
     "execution_count": 44,
     "metadata": {},
     "output_type": "execute_result"
    }
   ],
   "source": [
    "polarization_index"
   ]
  },
  {
   "cell_type": "code",
   "execution_count": null,
   "metadata": {},
   "outputs": [],
   "source": []
  }
 ],
 "metadata": {
  "kernelspec": {
   "display_name": ".venv",
   "language": "python",
   "name": "python3"
  },
  "language_info": {
   "codemirror_mode": {
    "name": "ipython",
    "version": 3
   },
   "file_extension": ".py",
   "mimetype": "text/x-python",
   "name": "python",
   "nbconvert_exporter": "python",
   "pygments_lexer": "ipython3",
   "version": "3.11.3"
  },
  "orig_nbformat": 4
 },
 "nbformat": 4,
 "nbformat_minor": 2
}
