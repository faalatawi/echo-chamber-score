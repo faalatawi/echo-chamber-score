{
 "cells": [
  {
   "cell_type": "code",
   "execution_count": 3,
   "metadata": {},
   "outputs": [
    {
     "name": "stderr",
     "output_type": "stream",
     "text": [
      "/Users/faisalalatawi/Documents/GitHub/echo-chamber-score/.venv/lib/python3.11/site-packages/tqdm/auto.py:21: TqdmWarning: IProgress not found. Please update jupyter and ipywidgets. See https://ipywidgets.readthedocs.io/en/stable/user_install.html\n",
      "  from .autonotebook import tqdm as notebook_tqdm\n"
     ]
    }
   ],
   "source": [
    "from src.load_data import get_data\n",
    "from src.EchoGAE import EchoGAE_algorithm\n",
    "from src.echo_chamber_measure import EchoChamberMeasure\n",
    "\n",
    "\n",
    "# TODO: Work on baselines\n",
    "import numpy as np\n",
    "from networkx.algorithms.community import asyn_fluidc\n",
    "from src.baselines.RWC_jit import RWC\n",
    "# from src.baselines.RWC import RWC # If you don't have numba installed use this line instead but it will be slower\n",
    "\n",
    "from src.baselines.polarization_index import add_ideology_to_graph, opinion_model, get_polarization_index"
   ]
  },
  {
   "cell_type": "code",
   "execution_count": 4,
   "metadata": {},
   "outputs": [],
   "source": [
    "datasets = [\"gun\", \"abortion\", \"super_bowl\", \"sxsw\"]\n",
    "ds = datasets[3]"
   ]
  },
  {
   "attachments": {},
   "cell_type": "markdown",
   "metadata": {},
   "source": [
    "# Echo Chamber Score:"
   ]
  },
  {
   "cell_type": "code",
   "execution_count": 5,
   "metadata": {},
   "outputs": [],
   "source": [
    "G, users_embeddings, labels, allsides_scores, node_id_map = get_data(f\"data/{ds}/\")"
   ]
  },
  {
   "cell_type": "code",
   "execution_count": 6,
   "metadata": {},
   "outputs": [
    {
     "name": "stdout",
     "output_type": "stream",
     "text": [
      "Epoch: 001, AUC: 0.7830, AP: 0.8047\n",
      "Epoch: 002, AUC: 0.8023, AP: 0.8171\n",
      "Epoch: 003, AUC: 0.8070, AP: 0.8196\n",
      "Epoch: 004, AUC: 0.7957, AP: 0.8129\n",
      "Epoch: 005, AUC: 0.7762, AP: 0.8016\n",
      "Epoch: 006, AUC: 0.7538, AP: 0.7874\n",
      "Epoch: 007, AUC: 0.7386, AP: 0.7791\n",
      "Epoch: 008, AUC: 0.7307, AP: 0.7745\n",
      "Epoch: 009, AUC: 0.7271, AP: 0.7724\n",
      "Epoch: 010, AUC: 0.7270, AP: 0.7726\n",
      "Epoch: 011, AUC: 0.7283, AP: 0.7738\n",
      "Epoch: 012, AUC: 0.7309, AP: 0.7757\n",
      "Epoch: 013, AUC: 0.7363, AP: 0.7797\n",
      "Epoch: 014, AUC: 0.7514, AP: 0.7889\n",
      "Epoch: 015, AUC: 0.7818, AP: 0.8062\n",
      "Epoch: 016, AUC: 0.8247, AP: 0.8319\n",
      "Epoch: 017, AUC: 0.8599, AP: 0.8575\n",
      "Epoch: 018, AUC: 0.8782, AP: 0.8729\n",
      "Epoch: 019, AUC: 0.8853, AP: 0.8805\n",
      "Epoch: 020, AUC: 0.8881, AP: 0.8837\n",
      "Epoch: 021, AUC: 0.8879, AP: 0.8839\n",
      "Epoch: 022, AUC: 0.8857, AP: 0.8815\n",
      "Epoch: 023, AUC: 0.8819, AP: 0.8766\n",
      "Epoch: 024, AUC: 0.8766, AP: 0.8691\n",
      "Epoch: 025, AUC: 0.8712, AP: 0.8617\n",
      "Epoch: 026, AUC: 0.8659, AP: 0.8565\n",
      "Epoch: 027, AUC: 0.8636, AP: 0.8555\n",
      "Epoch: 028, AUC: 0.8637, AP: 0.8570\n",
      "Epoch: 029, AUC: 0.8668, AP: 0.8611\n",
      "Epoch: 030, AUC: 0.8699, AP: 0.8645\n",
      "Epoch: 031, AUC: 0.8709, AP: 0.8652\n",
      "Epoch: 032, AUC: 0.8705, AP: 0.8651\n",
      "Epoch: 033, AUC: 0.8702, AP: 0.8654\n",
      "Epoch: 034, AUC: 0.8708, AP: 0.8668\n",
      "Epoch: 035, AUC: 0.8739, AP: 0.8710\n",
      "Epoch: 036, AUC: 0.8781, AP: 0.8756\n",
      "Epoch: 037, AUC: 0.8816, AP: 0.8792\n",
      "Epoch: 038, AUC: 0.8834, AP: 0.8808\n",
      "Epoch: 039, AUC: 0.8844, AP: 0.8816\n",
      "Epoch: 040, AUC: 0.8841, AP: 0.8818\n",
      "Epoch: 041, AUC: 0.8825, AP: 0.8809\n",
      "Epoch: 042, AUC: 0.8832, AP: 0.8812\n",
      "Epoch: 043, AUC: 0.8846, AP: 0.8822\n",
      "Epoch: 044, AUC: 0.8861, AP: 0.8836\n",
      "Epoch: 045, AUC: 0.8873, AP: 0.8846\n",
      "Epoch: 046, AUC: 0.8884, AP: 0.8862\n",
      "Epoch: 047, AUC: 0.8892, AP: 0.8874\n",
      "Epoch: 048, AUC: 0.8899, AP: 0.8882\n",
      "Epoch: 049, AUC: 0.8910, AP: 0.8893\n",
      "Epoch: 050, AUC: 0.8923, AP: 0.8907\n",
      "Epoch: 051, AUC: 0.8929, AP: 0.8916\n",
      "Epoch: 052, AUC: 0.8933, AP: 0.8923\n",
      "Epoch: 053, AUC: 0.8928, AP: 0.8922\n",
      "Epoch: 054, AUC: 0.8931, AP: 0.8933\n",
      "Epoch: 055, AUC: 0.8948, AP: 0.8951\n",
      "Epoch: 056, AUC: 0.8966, AP: 0.8967\n",
      "Epoch: 057, AUC: 0.8974, AP: 0.8973\n",
      "Epoch: 058, AUC: 0.8985, AP: 0.8984\n",
      "Epoch: 059, AUC: 0.8990, AP: 0.8993\n",
      "Epoch: 060, AUC: 0.8997, AP: 0.9002\n",
      "Epoch: 061, AUC: 0.9011, AP: 0.9019\n",
      "Epoch: 062, AUC: 0.9034, AP: 0.9044\n",
      "Epoch: 063, AUC: 0.9059, AP: 0.9065\n",
      "Epoch: 064, AUC: 0.9071, AP: 0.9072\n",
      "Epoch: 065, AUC: 0.9077, AP: 0.9077\n",
      "Epoch: 066, AUC: 0.9092, AP: 0.9096\n",
      "Epoch: 067, AUC: 0.9114, AP: 0.9120\n",
      "Epoch: 068, AUC: 0.9123, AP: 0.9129\n",
      "Epoch: 069, AUC: 0.9132, AP: 0.9140\n",
      "Epoch: 070, AUC: 0.9133, AP: 0.9136\n",
      "Epoch: 071, AUC: 0.9143, AP: 0.9147\n",
      "Epoch: 072, AUC: 0.9156, AP: 0.9159\n",
      "Epoch: 073, AUC: 0.9157, AP: 0.9158\n",
      "Epoch: 074, AUC: 0.9154, AP: 0.9154\n",
      "Epoch: 075, AUC: 0.9146, AP: 0.9152\n",
      "Epoch: 076, AUC: 0.9150, AP: 0.9159\n",
      "Epoch: 077, AUC: 0.9153, AP: 0.9163\n",
      "Epoch: 078, AUC: 0.9140, AP: 0.9145\n",
      "Epoch: 079, AUC: 0.9128, AP: 0.9130\n",
      "Epoch: 080, AUC: 0.9126, AP: 0.9132\n",
      "Epoch: 081, AUC: 0.9130, AP: 0.9143\n",
      "Epoch: 082, AUC: 0.9129, AP: 0.9142\n",
      "Epoch: 083, AUC: 0.9136, AP: 0.9152\n",
      "Epoch: 084, AUC: 0.9139, AP: 0.9157\n",
      "Epoch: 085, AUC: 0.9139, AP: 0.9150\n",
      "Epoch: 086, AUC: 0.9137, AP: 0.9142\n",
      "Epoch: 087, AUC: 0.9148, AP: 0.9159\n",
      "Epoch: 088, AUC: 0.9159, AP: 0.9172\n",
      "Epoch: 089, AUC: 0.9174, AP: 0.9182\n",
      "Epoch: 090, AUC: 0.9181, AP: 0.9181\n",
      "Epoch: 091, AUC: 0.9181, AP: 0.9188\n",
      "Epoch: 092, AUC: 0.9181, AP: 0.9188\n",
      "Epoch: 093, AUC: 0.9198, AP: 0.9198\n",
      "Epoch: 094, AUC: 0.9211, AP: 0.9208\n",
      "Epoch: 095, AUC: 0.9209, AP: 0.9209\n",
      "Epoch: 096, AUC: 0.9202, AP: 0.9204\n",
      "Epoch: 097, AUC: 0.9208, AP: 0.9208\n",
      "Epoch: 098, AUC: 0.9223, AP: 0.9222\n",
      "Epoch: 099, AUC: 0.9235, AP: 0.9233\n",
      "Epoch: 100, AUC: 0.9235, AP: 0.9233\n",
      "Epoch: 101, AUC: 0.9219, AP: 0.9220\n",
      "Epoch: 102, AUC: 0.9196, AP: 0.9200\n",
      "Epoch: 103, AUC: 0.9210, AP: 0.9213\n",
      "Epoch: 104, AUC: 0.9224, AP: 0.9224\n",
      "Epoch: 105, AUC: 0.9227, AP: 0.9225\n",
      "Epoch: 106, AUC: 0.9217, AP: 0.9222\n",
      "Epoch: 107, AUC: 0.9208, AP: 0.9217\n",
      "Epoch: 108, AUC: 0.9213, AP: 0.9220\n",
      "Epoch: 109, AUC: 0.9221, AP: 0.9220\n",
      "Epoch: 110, AUC: 0.9220, AP: 0.9214\n",
      "Epoch: 111, AUC: 0.9211, AP: 0.9215\n",
      "Epoch: 112, AUC: 0.9214, AP: 0.9224\n",
      "Epoch: 113, AUC: 0.9222, AP: 0.9229\n",
      "Epoch: 114, AUC: 0.9232, AP: 0.9231\n",
      "Epoch: 115, AUC: 0.9232, AP: 0.9229\n",
      "Epoch: 116, AUC: 0.9226, AP: 0.9229\n",
      "Epoch: 117, AUC: 0.9235, AP: 0.9246\n",
      "Epoch: 118, AUC: 0.9247, AP: 0.9255\n",
      "Epoch: 119, AUC: 0.9252, AP: 0.9258\n",
      "Epoch: 120, AUC: 0.9247, AP: 0.9249\n",
      "Epoch: 121, AUC: 0.9232, AP: 0.9234\n",
      "Epoch: 122, AUC: 0.9233, AP: 0.9243\n",
      "Epoch: 123, AUC: 0.9250, AP: 0.9263\n",
      "Epoch: 124, AUC: 0.9256, AP: 0.9267\n",
      "Epoch: 125, AUC: 0.9251, AP: 0.9264\n",
      "Epoch: 126, AUC: 0.9235, AP: 0.9250\n",
      "Epoch: 127, AUC: 0.9234, AP: 0.9248\n",
      "Epoch: 128, AUC: 0.9247, AP: 0.9260\n",
      "Epoch: 129, AUC: 0.9258, AP: 0.9269\n",
      "Epoch: 130, AUC: 0.9258, AP: 0.9270\n",
      "Epoch: 131, AUC: 0.9252, AP: 0.9269\n",
      "Epoch: 132, AUC: 0.9248, AP: 0.9264\n",
      "Epoch: 133, AUC: 0.9257, AP: 0.9268\n",
      "Epoch: 134, AUC: 0.9266, AP: 0.9278\n",
      "Epoch: 135, AUC: 0.9267, AP: 0.9281\n",
      "Epoch: 136, AUC: 0.9266, AP: 0.9281\n",
      "Epoch: 137, AUC: 0.9267, AP: 0.9283\n",
      "Epoch: 138, AUC: 0.9267, AP: 0.9282\n",
      "Epoch: 139, AUC: 0.9270, AP: 0.9282\n",
      "Epoch: 140, AUC: 0.9273, AP: 0.9286\n",
      "Epoch: 141, AUC: 0.9270, AP: 0.9285\n",
      "Epoch: 142, AUC: 0.9273, AP: 0.9286\n",
      "Epoch: 143, AUC: 0.9284, AP: 0.9290\n",
      "Epoch: 144, AUC: 0.9291, AP: 0.9296\n",
      "Epoch: 145, AUC: 0.9282, AP: 0.9295\n",
      "Epoch: 146, AUC: 0.9264, AP: 0.9281\n",
      "Epoch: 147, AUC: 0.9263, AP: 0.9270\n",
      "Epoch: 148, AUC: 0.9280, AP: 0.9280\n",
      "Epoch: 149, AUC: 0.9295, AP: 0.9299\n",
      "Epoch: 150, AUC: 0.9297, AP: 0.9306\n",
      "Epoch: 151, AUC: 0.9291, AP: 0.9302\n",
      "Epoch: 152, AUC: 0.9289, AP: 0.9292\n",
      "Epoch: 153, AUC: 0.9294, AP: 0.9289\n",
      "Epoch: 154, AUC: 0.9304, AP: 0.9309\n",
      "Epoch: 155, AUC: 0.9303, AP: 0.9320\n",
      "Epoch: 156, AUC: 0.9301, AP: 0.9317\n",
      "Epoch: 157, AUC: 0.9299, AP: 0.9304\n",
      "Epoch: 158, AUC: 0.9303, AP: 0.9304\n",
      "Epoch: 159, AUC: 0.9317, AP: 0.9319\n",
      "Epoch: 160, AUC: 0.9326, AP: 0.9337\n",
      "Epoch: 161, AUC: 0.9323, AP: 0.9335\n",
      "Epoch: 162, AUC: 0.9308, AP: 0.9316\n",
      "Epoch: 163, AUC: 0.9312, AP: 0.9310\n",
      "Epoch: 164, AUC: 0.9325, AP: 0.9324\n",
      "Epoch: 165, AUC: 0.9330, AP: 0.9336\n",
      "Epoch: 166, AUC: 0.9332, AP: 0.9338\n",
      "Epoch: 167, AUC: 0.9337, AP: 0.9335\n",
      "Epoch: 168, AUC: 0.9338, AP: 0.9325\n",
      "Epoch: 169, AUC: 0.9334, AP: 0.9323\n",
      "Epoch: 170, AUC: 0.9331, AP: 0.9334\n",
      "Epoch: 171, AUC: 0.9335, AP: 0.9340\n",
      "Epoch: 172, AUC: 0.9341, AP: 0.9339\n",
      "Epoch: 173, AUC: 0.9344, AP: 0.9333\n",
      "Epoch: 174, AUC: 0.9335, AP: 0.9329\n",
      "Epoch: 175, AUC: 0.9331, AP: 0.9328\n",
      "Epoch: 176, AUC: 0.9341, AP: 0.9335\n",
      "Epoch: 177, AUC: 0.9342, AP: 0.9332\n",
      "Epoch: 178, AUC: 0.9343, AP: 0.9338\n",
      "Epoch: 179, AUC: 0.9335, AP: 0.9333\n",
      "Epoch: 180, AUC: 0.9345, AP: 0.9336\n",
      "Epoch: 181, AUC: 0.9358, AP: 0.9346\n",
      "Epoch: 182, AUC: 0.9359, AP: 0.9349\n",
      "Epoch: 183, AUC: 0.9351, AP: 0.9348\n",
      "Epoch: 184, AUC: 0.9363, AP: 0.9352\n",
      "Epoch: 185, AUC: 0.9364, AP: 0.9341\n",
      "Epoch: 186, AUC: 0.9367, AP: 0.9347\n",
      "Epoch: 187, AUC: 0.9358, AP: 0.9356\n",
      "Epoch: 188, AUC: 0.9359, AP: 0.9362\n",
      "Epoch: 189, AUC: 0.9371, AP: 0.9361\n",
      "Epoch: 190, AUC: 0.9365, AP: 0.9345\n",
      "Epoch: 191, AUC: 0.9355, AP: 0.9341\n",
      "Epoch: 192, AUC: 0.9356, AP: 0.9352\n",
      "Epoch: 193, AUC: 0.9367, AP: 0.9364\n",
      "Epoch: 194, AUC: 0.9370, AP: 0.9366\n",
      "Epoch: 195, AUC: 0.9369, AP: 0.9360\n",
      "Epoch: 196, AUC: 0.9370, AP: 0.9359\n",
      "Epoch: 197, AUC: 0.9368, AP: 0.9363\n",
      "Epoch: 198, AUC: 0.9375, AP: 0.9368\n",
      "Epoch: 199, AUC: 0.9383, AP: 0.9371\n",
      "Epoch: 200, AUC: 0.9385, AP: 0.9378\n",
      "Epoch: 201, AUC: 0.9380, AP: 0.9375\n",
      "Epoch: 202, AUC: 0.9387, AP: 0.9373\n",
      "Epoch: 203, AUC: 0.9395, AP: 0.9381\n",
      "Epoch: 204, AUC: 0.9394, AP: 0.9386\n",
      "Epoch: 205, AUC: 0.9392, AP: 0.9383\n",
      "Epoch: 206, AUC: 0.9394, AP: 0.9376\n",
      "Epoch: 207, AUC: 0.9392, AP: 0.9368\n",
      "Epoch: 208, AUC: 0.9391, AP: 0.9374\n",
      "Epoch: 209, AUC: 0.9382, AP: 0.9383\n",
      "Epoch: 210, AUC: 0.9389, AP: 0.9390\n",
      "Epoch: 211, AUC: 0.9403, AP: 0.9391\n",
      "Epoch: 212, AUC: 0.9401, AP: 0.9383\n",
      "Epoch: 213, AUC: 0.9388, AP: 0.9375\n",
      "Epoch: 214, AUC: 0.9385, AP: 0.9381\n",
      "Epoch: 215, AUC: 0.9399, AP: 0.9392\n",
      "Epoch: 216, AUC: 0.9409, AP: 0.9398\n",
      "Epoch: 217, AUC: 0.9399, AP: 0.9391\n",
      "Epoch: 218, AUC: 0.9391, AP: 0.9380\n",
      "Epoch: 219, AUC: 0.9407, AP: 0.9393\n",
      "Epoch: 220, AUC: 0.9419, AP: 0.9406\n",
      "Epoch: 221, AUC: 0.9414, AP: 0.9410\n",
      "Epoch: 222, AUC: 0.9413, AP: 0.9402\n",
      "Epoch: 223, AUC: 0.9411, AP: 0.9394\n",
      "Epoch: 224, AUC: 0.9418, AP: 0.9401\n",
      "Epoch: 225, AUC: 0.9422, AP: 0.9413\n",
      "Epoch: 226, AUC: 0.9424, AP: 0.9419\n",
      "Epoch: 227, AUC: 0.9430, AP: 0.9421\n",
      "Epoch: 228, AUC: 0.9439, AP: 0.9424\n",
      "Epoch: 229, AUC: 0.9436, AP: 0.9420\n",
      "Epoch: 230, AUC: 0.9424, AP: 0.9412\n",
      "Epoch: 231, AUC: 0.9432, AP: 0.9416\n",
      "Epoch: 232, AUC: 0.9444, AP: 0.9426\n",
      "Epoch: 233, AUC: 0.9443, AP: 0.9429\n",
      "Epoch: 234, AUC: 0.9439, AP: 0.9428\n",
      "Epoch: 235, AUC: 0.9430, AP: 0.9421\n",
      "Epoch: 236, AUC: 0.9442, AP: 0.9421\n",
      "Epoch: 237, AUC: 0.9448, AP: 0.9427\n",
      "Epoch: 238, AUC: 0.9445, AP: 0.9434\n",
      "Epoch: 239, AUC: 0.9430, AP: 0.9428\n",
      "Epoch: 240, AUC: 0.9439, AP: 0.9428\n",
      "Epoch: 241, AUC: 0.9449, AP: 0.9425\n",
      "Epoch: 242, AUC: 0.9448, AP: 0.9429\n",
      "Epoch: 243, AUC: 0.9439, AP: 0.9434\n",
      "Epoch: 244, AUC: 0.9444, AP: 0.9437\n",
      "Epoch: 245, AUC: 0.9457, AP: 0.9441\n",
      "Epoch: 246, AUC: 0.9449, AP: 0.9433\n",
      "Epoch: 247, AUC: 0.9442, AP: 0.9431\n",
      "Epoch: 248, AUC: 0.9462, AP: 0.9446\n",
      "Epoch: 249, AUC: 0.9464, AP: 0.9446\n",
      "Epoch: 250, AUC: 0.9457, AP: 0.9442\n",
      "Epoch: 251, AUC: 0.9445, AP: 0.9435\n",
      "Epoch: 252, AUC: 0.9455, AP: 0.9439\n",
      "Epoch: 253, AUC: 0.9462, AP: 0.9444\n",
      "Epoch: 254, AUC: 0.9457, AP: 0.9447\n",
      "Epoch: 255, AUC: 0.9447, AP: 0.9442\n",
      "Epoch: 256, AUC: 0.9454, AP: 0.9439\n",
      "Epoch: 257, AUC: 0.9465, AP: 0.9440\n",
      "Epoch: 258, AUC: 0.9467, AP: 0.9447\n",
      "Epoch: 259, AUC: 0.9449, AP: 0.9444\n",
      "Epoch: 260, AUC: 0.9447, AP: 0.9444\n",
      "Epoch: 261, AUC: 0.9463, AP: 0.9449\n",
      "Epoch: 262, AUC: 0.9472, AP: 0.9449\n",
      "Epoch: 263, AUC: 0.9469, AP: 0.9449\n",
      "Epoch: 264, AUC: 0.9461, AP: 0.9448\n",
      "Epoch: 265, AUC: 0.9465, AP: 0.9453\n",
      "Epoch: 266, AUC: 0.9475, AP: 0.9459\n",
      "Epoch: 267, AUC: 0.9481, AP: 0.9460\n",
      "Epoch: 268, AUC: 0.9470, AP: 0.9453\n",
      "Epoch: 269, AUC: 0.9461, AP: 0.9445\n",
      "Epoch: 270, AUC: 0.9479, AP: 0.9461\n",
      "Epoch: 271, AUC: 0.9484, AP: 0.9465\n",
      "Epoch: 272, AUC: 0.9476, AP: 0.9461\n",
      "Epoch: 273, AUC: 0.9456, AP: 0.9443\n",
      "Epoch: 274, AUC: 0.9469, AP: 0.9443\n",
      "Epoch: 275, AUC: 0.9483, AP: 0.9460\n",
      "Epoch: 276, AUC: 0.9479, AP: 0.9466\n",
      "Epoch: 277, AUC: 0.9469, AP: 0.9463\n",
      "Epoch: 278, AUC: 0.9473, AP: 0.9456\n",
      "Epoch: 279, AUC: 0.9468, AP: 0.9448\n",
      "Epoch: 280, AUC: 0.9479, AP: 0.9460\n",
      "Epoch: 281, AUC: 0.9490, AP: 0.9472\n",
      "Epoch: 282, AUC: 0.9480, AP: 0.9467\n",
      "Epoch: 283, AUC: 0.9474, AP: 0.9460\n",
      "Epoch: 284, AUC: 0.9481, AP: 0.9462\n",
      "Epoch: 285, AUC: 0.9482, AP: 0.9466\n",
      "Epoch: 286, AUC: 0.9474, AP: 0.9465\n",
      "Epoch: 287, AUC: 0.9492, AP: 0.9476\n",
      "Epoch: 288, AUC: 0.9488, AP: 0.9470\n",
      "Epoch: 289, AUC: 0.9477, AP: 0.9466\n",
      "Epoch: 290, AUC: 0.9482, AP: 0.9474\n",
      "Epoch: 291, AUC: 0.9500, AP: 0.9485\n",
      "Epoch: 292, AUC: 0.9504, AP: 0.9482\n",
      "Epoch: 293, AUC: 0.9474, AP: 0.9465\n",
      "Epoch: 294, AUC: 0.9464, AP: 0.9464\n",
      "Epoch: 295, AUC: 0.9497, AP: 0.9483\n",
      "Epoch: 296, AUC: 0.9508, AP: 0.9485\n",
      "Epoch: 297, AUC: 0.9490, AP: 0.9478\n",
      "Epoch: 298, AUC: 0.9469, AP: 0.9469\n",
      "Epoch: 299, AUC: 0.9497, AP: 0.9487\n",
      "Epoch: 300, AUC: 0.9513, AP: 0.9492\n"
     ]
    }
   ],
   "source": [
    "user_emb = EchoGAE_algorithm(G, user_embeddings= users_embeddings,show_progress=True, hidden_channels = 20, out_channels=10, epochs=300)"
   ]
  },
  {
   "cell_type": "code",
   "execution_count": 7,
   "metadata": {},
   "outputs": [],
   "source": [
    "ecm = EchoChamberMeasure(user_emb, labels)"
   ]
  },
  {
   "cell_type": "code",
   "execution_count": 8,
   "metadata": {},
   "outputs": [
    {
     "data": {
      "text/plain": [
       "0.45679116523536495"
      ]
     },
     "execution_count": 8,
     "metadata": {},
     "output_type": "execute_result"
    }
   ],
   "source": [
    "ecm.echo_chamber_index()"
   ]
  },
  {
   "attachments": {},
   "cell_type": "markdown",
   "metadata": {},
   "source": [
    "# Baselines:\n",
    "\n",
    "## 1. Random Walk Controversy Score"
   ]
  },
  {
   "cell_type": "code",
   "execution_count": 9,
   "metadata": {},
   "outputs": [],
   "source": [
    "mem = asyn_fluidc(G, k=2, seed=42, max_iter=1000)\n",
    "mem = list(mem)\n",
    "\n",
    "nodes_0 = np.array(list(mem[0]))\n",
    "nodes_1 = np.array(list(mem[1]))"
   ]
  },
  {
   "cell_type": "code",
   "execution_count": 10,
   "metadata": {},
   "outputs": [
    {
     "data": {
      "text/plain": [
       "0.480910948932565"
      ]
     },
     "execution_count": 10,
     "metadata": {},
     "output_type": "execute_result"
    }
   ],
   "source": [
    "RWC(G, nodes_0, nodes_1)"
   ]
  },
  {
   "attachments": {},
   "cell_type": "markdown",
   "metadata": {},
   "source": [
    "## 2. Polarization Index:"
   ]
  },
  {
   "cell_type": "code",
   "execution_count": 11,
   "metadata": {},
   "outputs": [],
   "source": [
    "def add_ideology_to_graph_22(G, ideologies_dict):\n",
    "    G = G.copy()\n",
    "    core_nodes = []\n",
    "    for node in G.nodes():\n",
    "        if node in ideologies_dict:\n",
    "            G.nodes[node][\"ideology\"] = ideologies_dict[node]\n",
    "            core_nodes.append(node)\n",
    "        else:\n",
    "            G.nodes[node][\"ideology\"] = 0\n",
    "    return G, core_nodes"
   ]
  },
  {
   "cell_type": "code",
   "execution_count": 12,
   "metadata": {},
   "outputs": [],
   "source": [
    "G_ven, core_nodes = add_ideology_to_graph_22(G, allsides_scores)\n",
    "opinions = opinion_model(G_ven, core_nodes=core_nodes)\n",
    "polarization_index = get_polarization_index(opinions)[0]"
   ]
  },
  {
   "cell_type": "code",
   "execution_count": 13,
   "metadata": {},
   "outputs": [
    {
     "data": {
      "text/plain": [
       "0.0015141484435409224"
      ]
     },
     "execution_count": 13,
     "metadata": {},
     "output_type": "execute_result"
    }
   ],
   "source": [
    "polarization_index"
   ]
  }
 ],
 "metadata": {
  "kernelspec": {
   "display_name": ".venv",
   "language": "python",
   "name": "python3"
  },
  "language_info": {
   "codemirror_mode": {
    "name": "ipython",
    "version": 3
   },
   "file_extension": ".py",
   "mimetype": "text/x-python",
   "name": "python",
   "nbconvert_exporter": "python",
   "pygments_lexer": "ipython3",
   "version": "3.11.4"
  },
  "orig_nbformat": 4
 },
 "nbformat": 4,
 "nbformat_minor": 2
}
